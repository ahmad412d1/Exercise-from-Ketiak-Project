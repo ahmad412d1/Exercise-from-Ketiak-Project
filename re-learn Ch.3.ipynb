{
 "cells": [
  {
   "cell_type": "code",
   "execution_count": 6,
   "metadata": {},
   "outputs": [],
   "source": [
    "def F(C):\n",
    "    return (9.0/5)*C+32"
   ]
  },
  {
   "cell_type": "code",
   "execution_count": 7,
   "metadata": {},
   "outputs": [
    {
     "name": "stdout",
     "output_type": "stream",
     "text": [
      "51.8\n"
     ]
    }
   ],
   "source": [
    "temp1=F(15.5)\n",
    "a=10\n",
    "temp2=F(a)\n",
    "print(F(a+1))\n",
    "sum_temp=F(10)+F(20)"
   ]
  },
  {
   "cell_type": "code",
   "execution_count": 12,
   "metadata": {},
   "outputs": [
    {
     "name": "stdout",
     "output_type": "stream",
     "text": [
      "69.8\n"
     ]
    }
   ],
   "source": [
    "def F2(C):\n",
    "    return (9.0/5)*C+32\n",
    "\n",
    "s1=F2(21)\n",
    "print ('%.1f' %(s1))"
   ]
  },
  {
   "cell_type": "code",
   "execution_count": 1,
   "metadata": {},
   "outputs": [
    {
     "name": "stdout",
     "output_type": "stream",
     "text": [
      "-32.0 -25.6\n",
      "-29.0 -20.2\n",
      "-26.0 -14.8\n",
      "-23.0  -9.4\n",
      "-20.0  -4.0\n",
      "-17.0   1.4\n",
      "-14.0   6.8\n",
      "-11.0  12.2\n",
      " -8.0  17.6\n",
      " -5.0  23.0\n",
      " -2.0  28.4\n",
      "  1.0  33.8\n",
      "  4.0  39.2\n",
      "  7.0  44.6\n",
      " 10.0  50.0\n",
      " 13.0  55.4\n",
      " 16.0  60.8\n",
      " 19.0  66.2\n",
      " 22.0  71.6\n",
      " 25.0  77.0\n",
      " 28.0  82.4\n",
      " 31.0  87.8\n",
      " 34.0  93.2\n",
      " 37.0  98.6\n",
      " 40.0 104.0\n",
      " 43.0 109.4\n",
      " 46.0 114.8\n",
      " 49.0 120.2\n"
     ]
    }
   ],
   "source": [
    "def F(C):\n",
    "    return (9./5)*C+32\n",
    "\n",
    "dC=3\n",
    "C=-32\n",
    "while C <= 50:\n",
    "    print('%5.1f %5.1f' %(C,F(C)))\n",
    "    C+=dC"
   ]
  },
  {
   "cell_type": "code",
   "execution_count": 1,
   "metadata": {},
   "outputs": [
    {
     "data": {
      "text/plain": [
       "'C:\\\\Users\\\\Ahmad Ardi\\\\Anaconda3;C:\\\\Users\\\\Ahmad Ardi\\\\Anaconda3\\\\Library\\\\mingw-w64\\\\bin;C:\\\\Users\\\\Ahmad Ardi\\\\Anaconda3\\\\Library\\\\usr\\\\bin;C:\\\\Users\\\\Ahmad Ardi\\\\Anaconda3\\\\Library\\\\bin;C:\\\\Users\\\\Ahmad Ardi\\\\Anaconda3\\\\Scripts;C:\\\\Users\\\\Ahmad Ardi\\\\Anaconda3\\\\bin;C:\\\\Users\\\\Ahmad Ardi\\\\Anaconda3;C:\\\\Users\\\\Ahmad Ardi\\\\Anaconda3\\\\Library\\\\mingw-w64\\\\bin;C:\\\\Users\\\\Ahmad Ardi\\\\Anaconda3\\\\Library\\\\usr\\\\bin;C:\\\\Users\\\\Ahmad Ardi\\\\Anaconda3\\\\Library\\\\bin;C:\\\\Users\\\\Ahmad Ardi\\\\Anaconda3\\\\Scripts;C:\\\\Users\\\\Ahmad Ardi\\\\Anaconda3\\\\Library\\\\bin;C:\\\\Program Files (x86)\\\\Intel\\\\iCLS Client\\\\;C:\\\\Program Files\\\\Intel\\\\iCLS Client\\\\;C:\\\\Windows\\\\system32;C:\\\\Windows;C:\\\\Windows\\\\System32\\\\Wbem;C:\\\\Windows\\\\System32\\\\WindowsPowerShell\\\\v1.0\\\\;C:\\\\Program Files (x86)\\\\Intel\\\\Intel(R) Management Engine Components\\\\DAL;C:\\\\Program Files\\\\Intel\\\\Intel(R) Management Engine Components\\\\DAL;C:\\\\Program Files (x86)\\\\Intel\\\\Intel(R) Management Engine Components\\\\IPT;C:\\\\Program Files\\\\Intel\\\\Intel(R) Management Engine Components\\\\IPT;C:\\\\Program Files (x86)\\\\NVIDIA Corporation\\\\PhysX\\\\Common;C:\\\\Program Files\\\\Microsoft VS Code\\\\bin;C:\\\\WINDOWS\\\\system32;C:\\\\WINDOWS;C:\\\\WINDOWS\\\\System32\\\\Wbem;C:\\\\WINDOWS\\\\System32\\\\WindowsPowerShell\\\\v1.0\\\\;C:\\\\WINDOWS\\\\System32\\\\OpenSSH\\\\;C:\\\\Users\\\\Ahmad Ardi\\\\AppData\\\\Local\\\\Microsoft\\\\WindowsApps;'"
      ]
     },
     "execution_count": 1,
     "metadata": {},
     "output_type": "execute_result"
    }
   ],
   "source": [
    "import os\n",
    "os.environ['PATH']"
   ]
  },
  {
   "cell_type": "code",
   "execution_count": 2,
   "metadata": {},
   "outputs": [],
   "source": [
    "from pandas import DataFrame\n",
    "import pandas as pd\n",
    "import numpy as np"
   ]
  },
  {
   "cell_type": "code",
   "execution_count": 5,
   "metadata": {},
   "outputs": [
    {
     "ename": "ModuleNotFoundError",
     "evalue": "No module named 'json_api_client'",
     "output_type": "error",
     "traceback": [
      "\u001b[1;31m---------------------------------------------------------------------------\u001b[0m",
      "\u001b[1;31mModuleNotFoundError\u001b[0m                       Traceback (most recent call last)",
      "\u001b[1;32m<ipython-input-5-d29ffe2584e6>\u001b[0m in \u001b[0;36m<module>\u001b[1;34m()\u001b[0m\n\u001b[1;32m----> 1\u001b[1;33m \u001b[1;32mfrom\u001b[0m \u001b[0mjson_api_client\u001b[0m \u001b[1;32mimport\u001b[0m \u001b[0mSession\u001b[0m\u001b[1;33m,\u001b[0m \u001b[0mFilter\u001b[0m\u001b[1;33m\u001b[0m\u001b[0m\n\u001b[0m\u001b[0;32m      2\u001b[0m \u001b[1;32mimport\u001b[0m \u001b[0mpycurl\u001b[0m\u001b[1;33m\u001b[0m\u001b[0m\n\u001b[0;32m      3\u001b[0m \u001b[1;32mimport\u001b[0m \u001b[0mhtml\u001b[0m\u001b[1;33m\u001b[0m\u001b[0m\n\u001b[0;32m      4\u001b[0m \u001b[1;33m\u001b[0m\u001b[0m\n\u001b[0;32m      5\u001b[0m \u001b[0mAPI_BASE\u001b[0m \u001b[1;33m=\u001b[0m \u001b[1;34m'https://www.ebi.ac.uk/metagenomics/api/latest/'\u001b[0m\u001b[1;33m\u001b[0m\u001b[0m\n",
      "\u001b[1;31mModuleNotFoundError\u001b[0m: No module named 'json_api_client'"
     ]
    }
   ],
   "source": [
    "from json_api_client import Session, Filter\n",
    "import pycurl\n",
    "import html\n",
    "\n",
    "API_BASE = 'https://www.ebi.ac.uk/metagenomics/api/latest/'"
   ]
  },
  {
   "cell_type": "code",
   "execution_count": null,
   "metadata": {},
   "outputs": [],
   "source": []
  }
 ],
 "metadata": {
  "kernelspec": {
   "display_name": "Python 3",
   "language": "python",
   "name": "python3"
  },
  "language_info": {
   "codemirror_mode": {
    "name": "ipython",
    "version": 3
   },
   "file_extension": ".py",
   "mimetype": "text/x-python",
   "name": "python",
   "nbconvert_exporter": "python",
   "pygments_lexer": "ipython3",
   "version": "3.6.5"
  }
 },
 "nbformat": 4,
 "nbformat_minor": 2
}
