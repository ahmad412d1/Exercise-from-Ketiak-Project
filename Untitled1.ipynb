{
 "cells": [
  {
   "cell_type": "code",
   "execution_count": 1,
   "metadata": {},
   "outputs": [],
   "source": [
    "from Bio import SeqIO\n",
    "from pandas import DataFrame\n",
    "import pandas as pd\n",
    "import os, sys\n",
    "from tqdm import tqdm\n",
    "import zipfile"
   ]
  },
  {
   "cell_type": "code",
   "execution_count": 2,
   "metadata": {},
   "outputs": [],
   "source": [
    "def BGC_counter(refseq):\n",
    "    gbk_file = refseq\n",
    "    print (gbk_file)\n",
    "    df_antismash = DataFrame(columns=(\"Cluster No\",\"Cluster Type\"))\n",
    "    for seq_record in SeqIO.parse(gbk_file, \"genbank\"):\n",
    "        for seq_feat in seq_record.features:\n",
    "            if seq_feat.type == \"cluster\":\n",
    "                cluster_number = seq_feat.qualifiers[\"note\"][0].replace(\" \",\"_\").replace(\":\",\"\")\n",
    "                cluster_type = seq_feat.qualifiers[\"product\"][0]\n",
    "                df = pd.DataFrame([[cluster_number, cluster_type]], columns=(\"Cluster No\", \"Cluster Type\"))\n",
    "                df_antismash = df_antismash.append(df, ignore_index=True)\n",
    "    return df_antismash"
   ]
  },
  {
   "cell_type": "code",
   "execution_count": 11,
   "metadata": {},
   "outputs": [
    {
     "name": "stderr",
     "output_type": "stream",
     "text": [
      "100%|██████████| 10/10 [00:00<00:00, 649.60it/s]\n"
     ]
    }
   ],
   "source": [
    "cwd = os.getcwd()\n",
    "os.chdir(cwd)\n",
    "#os.chdir('C:/Users/Ahmad Ardi/')\n",
    "species = pd.read_csv('02_NCBI_Result_WGS.csv')\n",
    "for i in tqdm(range(len(species))):\n",
    "    try:\n",
    "        refseq = pd.read_csv('Refseq_'+species.loc[i,\"Genus\"]+'_'+species.loc[i,\"Species\"]+'.csv')\n",
    "        #print(os.getcwd())\n",
    "        #os.chdir(\"E:/Jupyter_Lab/KetiakProject/Genome Scraping NCBI/Result/\"+species.loc[i,\"Genus\"]+\" \"+species.loc[i,\"Species\"]+\"/\")\n",
    "        os.chdir(cwd+\"/Result/\"+species.loc[i,\"Genus\"]+\" \"+species.loc[i,\"Species\"]+\"/\")\n",
    "        print(os.getcwd())\n",
    "        result = os.listdir()\n",
    "        for x in range(len(result)):\n",
    "            if '.zip' in result[x]:\n",
    "                with zipfile.ZipFile(result[x]) as zip_ref:\n",
    "                    zip_ref.extractall()\n",
    "        result = os.listdir()\n",
    "        #print(result)\n",
    "        for x in range(len(result)):\n",
    "            if 'bacteria' in result[x]:\n",
    "                #print (result[x])\n",
    "                os.chdir(result[x]+\"/\")\n",
    "                print(os.getcwd())\n",
    "                dir_ref = os.listdir()\n",
    "                for y in range(len(dir_ref)):\n",
    "                    if 'final.gbk' in dir_ref[y]:\n",
    "                        #print (dir_ref[y])\n",
    "                        df = BGC_counter(dir_ref[y])\n",
    "                        os.chdir(\"..\")\n",
    "                        df.to_csv(\"BGC_count_\"+dir_ref[y].replace('.final.gbk','')+\".csv\")\n",
    "                #os.chdir(\"..\")\n",
    "                print(os.getcwd())\n",
    "            else:        \n",
    "                #os.chdir('E:/Jupyter_Lab/KetiakProject/Genome Scraping NCBI/')                           \n",
    "                os.chdir(cwd)\n",
    "    except OSError:\n",
    "        #os.chdir('E:/Jupyter_Lab/KetiakProject/Genome Scraping NCBI/')                \n",
    "        os.chdir(cwd)\n",
    "        pass"
   ]
  },
  {
   "cell_type": "code",
   "execution_count": 12,
   "metadata": {},
   "outputs": [],
   "source": [
    "os.chdir('C:/Users/Ahmad Ardi/')\n",
    "df_count = DataFrame(columns=(\"Species\", \"Strain\"))"
   ]
  },
  {
   "cell_type": "code",
   "execution_count": 13,
   "metadata": {},
   "outputs": [
    {
     "name": "stderr",
     "output_type": "stream",
     "text": [
      "  0%|          | 0/10 [00:00<?, ?it/s]"
     ]
    },
    {
     "name": "stdout",
     "output_type": "stream",
     "text": [
      "error\n",
      "error\n",
      "error\n",
      "error\n",
      "error\n",
      "error\n",
      "error\n",
      "error\n",
      "error\n",
      "error\n"
     ]
    },
    {
     "name": "stderr",
     "output_type": "stream",
     "text": [
      "100%|██████████| 10/10 [00:00<00:00, 234.49it/s]\n"
     ]
    }
   ],
   "source": [
    "df_count = DataFrame(columns=(\"Species\", \"Strain\"))\n",
    "cwd = os.getcwd()\n",
    "species = pd.read_csv('02_NCBI_Result_WGS.csv')\n",
    "for i in tqdm(range(len(species))):\n",
    "    try:\n",
    "        refseq = pd.read_csv('Refseq_'+species.loc[i,\"Genus\"]+'_'+species.loc[i,\"Species\"]+'.csv')\n",
    "        #print(refseq)\n",
    "        os.chdir(cwd+\"/Result/\"+species.loc[i,\"Genus\"]+\" \"+species.loc[i,\"Species\"]+\"/\")\n",
    "        print(os.getcwd())\n",
    "        result = os.listdir()\n",
    "        for x in range(len(result)):\n",
    "            if 'BGC_count_' in result[x]:\n",
    "                print(result[x])\n",
    "                df = pd.read_csv(result[x])\n",
    "                df2 = df[\"Cluster Type\"].value_counts()\n",
    "                acc = result[x]\n",
    "                acc = acc.replace(\"BGC_count_\",\"\")\n",
    "                acc = acc.replace(\".csv\",\"\")\n",
    "                strain = refseq.loc[refseq[\"Refseq\"] == acc, \"Strain\"]\n",
    "                df2 = df2.rename(acc)\n",
    "                df_count = df_count.append(df2)\n",
    "                df_count.loc[acc, \"Species\"] = species.loc[i,\"Genus\"]+\" \"+species.loc[i,\"Species\"]\n",
    "                try:\n",
    "                    df_count.loc[acc, \"Strain\"] = strain.values[0]\n",
    "                except IndexError:\n",
    "                    pass\n",
    "                c = df_count.reset_index()\n",
    "        os.chdir(cwd)\n",
    "        #else:\n",
    "            #os.chdir(cwd)\n",
    "    except OSError:  \n",
    "        #os.chdir(cwd)\n",
    "        print('error')\n",
    "        pass"
   ]
  },
  {
   "cell_type": "code",
   "execution_count": 8,
   "metadata": {},
   "outputs": [
    {
     "ename": "NameError",
     "evalue": "name 'c' is not defined",
     "output_type": "error",
     "traceback": [
      "\u001b[1;31m---------------------------------------------------------------------------\u001b[0m",
      "\u001b[1;31mNameError\u001b[0m                                 Traceback (most recent call last)",
      "\u001b[1;32m<ipython-input-8-68affddb1e80>\u001b[0m in \u001b[0;36m<module>\u001b[1;34m()\u001b[0m\n\u001b[1;32m----> 1\u001b[1;33m \u001b[0mc\u001b[0m \u001b[1;33m=\u001b[0m \u001b[0mc\u001b[0m\u001b[1;33m.\u001b[0m\u001b[0mfillna\u001b[0m\u001b[1;33m(\u001b[0m\u001b[1;36m0\u001b[0m\u001b[1;33m)\u001b[0m\u001b[1;33m\u001b[0m\u001b[0m\n\u001b[0m\u001b[0;32m      2\u001b[0m \u001b[0mc\u001b[0m\u001b[1;33m.\u001b[0m\u001b[0mto_csv\u001b[0m\u001b[1;33m(\u001b[0m\u001b[1;34m\"03_BGC_Result.csv\"\u001b[0m\u001b[1;33m)\u001b[0m\u001b[1;33m\u001b[0m\u001b[0m\n\u001b[0;32m      3\u001b[0m \u001b[0mc\u001b[0m\u001b[1;33m\u001b[0m\u001b[0m\n",
      "\u001b[1;31mNameError\u001b[0m: name 'c' is not defined"
     ]
    }
   ],
   "source": [
    "c = c.fillna(0)\n",
    "c.to_csv(\"03_BGC_Result.csv\")\n",
    "c"
   ]
  },
  {
   "cell_type": "code",
   "execution_count": null,
   "metadata": {},
   "outputs": [],
   "source": []
  }
 ],
 "metadata": {
  "kernelspec": {
   "display_name": "Python 3",
   "language": "python",
   "name": "python3"
  },
  "language_info": {
   "codemirror_mode": {
    "name": "ipython",
    "version": 3
   },
   "file_extension": ".py",
   "mimetype": "text/x-python",
   "name": "python",
   "nbconvert_exporter": "python",
   "pygments_lexer": "ipython3",
   "version": "3.6.5"
  }
 },
 "nbformat": 4,
 "nbformat_minor": 2
}
