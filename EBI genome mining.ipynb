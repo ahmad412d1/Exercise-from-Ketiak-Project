{
 "cells": [
  {
   "cell_type": "code",
   "execution_count": 31,
   "metadata": {},
   "outputs": [
    {
     "data": {
      "text/plain": [
       "'C:\\\\Users\\\\Ahmad Ardi\\\\Anaconda3\\\\DLLs;C:\\\\Users\\\\Ahmad Ardi\\\\Anaconda3;C:\\\\Users\\\\Ahmad Ardi\\\\Anaconda3\\\\Library\\\\mingw-w64\\\\bin;C:\\\\Users\\\\Ahmad Ardi\\\\Anaconda3\\\\Library\\\\usr\\\\bin;C:\\\\Users\\\\Ahmad Ardi\\\\Anaconda3\\\\Library\\\\bin;C:\\\\Users\\\\Ahmad Ardi\\\\Anaconda3\\\\Scripts;C:\\\\Users\\\\Ahmad Ardi\\\\Anaconda3\\\\bin;C:\\\\Users\\\\Ahmad Ardi\\\\Anaconda3;C:\\\\Users\\\\Ahmad Ardi\\\\Anaconda3\\\\Library\\\\mingw-w64\\\\bin;C:\\\\Users\\\\Ahmad Ardi\\\\Anaconda3\\\\Library\\\\usr\\\\bin;C:\\\\Users\\\\Ahmad Ardi\\\\Anaconda3\\\\Library\\\\bin;C:\\\\Users\\\\Ahmad Ardi\\\\Anaconda3\\\\Scripts;C:\\\\Users\\\\Ahmad Ardi\\\\Anaconda3\\\\Library\\\\bin;C:\\\\Program Files (x86)\\\\Common Files\\\\Oracle\\\\Java\\\\javapath;C:\\\\Program Files (x86)\\\\Intel\\\\iCLS Client\\\\;C:\\\\Program Files\\\\Intel\\\\iCLS Client\\\\;C:\\\\Windows\\\\system32;C:\\\\Windows;C:\\\\Windows\\\\System32\\\\Wbem;C:\\\\Windows\\\\System32\\\\WindowsPowerShell\\\\v1.0\\\\;C:\\\\Program Files (x86)\\\\Intel\\\\Intel(R) Management Engine Components\\\\DAL;C:\\\\Program Files\\\\Intel\\\\Intel(R) Management Engine Components\\\\DAL;C:\\\\Program Files (x86)\\\\Intel\\\\Intel(R) Management Engine Components\\\\IPT;C:\\\\Program Files\\\\Intel\\\\Intel(R) Management Engine Components\\\\IPT;C:\\\\Program Files (x86)\\\\NVIDIA Corporation\\\\PhysX\\\\Common;C:\\\\Program Files\\\\Microsoft VS Code\\\\bin;C:\\\\WINDOWS\\\\system32;C:\\\\WINDOWS;C:\\\\WINDOWS\\\\System32\\\\Wbem;C:\\\\WINDOWS\\\\System32\\\\WindowsPowerShell\\\\v1.0\\\\;C:\\\\WINDOWS\\\\System32\\\\OpenSSH\\\\;C:\\\\Program Files\\\\Git\\\\cmd;C:\\\\Program Files (x86)\\\\Java\\\\jre8\\\\bin for java 1.8.x on 64-bit version of Windows;C:\\\\ProgramData\\\\Ahmad Ardi\\\\atom\\\\bin'"
      ]
     },
     "execution_count": 31,
     "metadata": {},
     "output_type": "execute_result"
    }
   ],
   "source": [
    "import os\n",
    "os.environ['PATH']"
   ]
  },
  {
   "cell_type": "code",
   "execution_count": 32,
   "metadata": {},
   "outputs": [],
   "source": [
    "from pandas import DataFrame\n",
    "import pandas as pd\n",
    "import numpy as np"
   ]
  },
  {
   "cell_type": "code",
   "execution_count": 33,
   "metadata": {},
   "outputs": [],
   "source": [
    "from jsonapi_client import Session, Filter\n",
    "import pycurl\n",
    "import html\n",
    "\n",
    "API_BASE = \"https://www.ebi.ac.uk/metagenomics/api/latest/\""
   ]
  },
  {
   "cell_type": "code",
   "execution_count": 34,
   "metadata": {},
   "outputs": [],
   "source": [
    "import os, sys\n",
    "from tqdm import tqdm\n",
    "import ipywidgets\n",
    "from time import sleep\n",
    "import glob"
   ]
  },
  {
   "cell_type": "code",
   "execution_count": 35,
   "metadata": {},
   "outputs": [],
   "source": [
    "def get_metadata(metadata,key):\n",
    "    for m in metadata : \n",
    "        if m['key'].lower() == key.lower():\n",
    "            value = m['value']\n",
    "            unit = html.unescape(m['unit']) if m['unit'] else \"\"\n",
    "            return \"{value} {unit}\". format(value=value,unit=unit)\n",
    "        return None\n",
    "    \n",
    "def get_study(term,lineage,biome,filename):\n",
    "    if not os.path.isfile(filename):\n",
    "        with open(filename, 'wb') as f:\n",
    "            c = pycurl.Curl()\n",
    "            c.setopt(c.URL, 'https://www.ebi.ac.uk/metagenomics/api/v1/studies?lineage=root%3AHost-associated%3AAlgae&ordering=-last_update&format=csv')\n",
    "            c.setopt(c.WRITEDATA, f)\n",
    "            c.perform()\n",
    "            c.close()\n",
    "    return filename\n",
    "\n",
    "def get_analysis_result(run, extension):\n",
    "    API_BASE_RUN = 'https://www.ebi.ac.uk/metagenomics/api/latest/runs'\n",
    "    with Session(API_BASE_RUN) as s:\n",
    "        study = s.get(run,'analysis').resource\n",
    "        for i in study.downloads:\n",
    "            if extension in i.file_format['name']:\n",
    "                link = i.url\n",
    "    return link\n",
    "\n",
    "def random_sampling(dataframe, amount):\n",
    "    df_random = DataFrame(columns=('secondary_accession','url','samples_count','bioproject','accession','biomes','centre_name','last_update', 'study_abstract','is_public','study_name','data_origination'))\n",
    "    df_random.index.name = 'No'\n",
    "    a = 0\n",
    "    while a < amount:\n",
    "        i = np.random.choice(dataframe.index.values, 1)\n",
    "        container = df_random.loc[:, 'secondary_accession']\n",
    "        if not container.isin([dataframe.loc[i[0], 'secondary_accession']]).any():\n",
    "            df_random.loc[i[0]] = [dataframe.loc[i[0], 'secondary_accession'], \\\n",
    "                                   dataframe.loc[i[0], 'url'], \\\n",
    "                                   dataframe.loc[i[0], 'samples_count'], \\\n",
    "                                   dataframe.loc[i[0], 'bioproject'], \\\n",
    "                                   dataframe.loc[i[0], 'accession'], \\\n",
    "                                   dataframe.loc[i[0], 'biomes'], \\\n",
    "                                   dataframe.loc[i[0], 'centre_name'], \\\n",
    "                                   dataframe.loc[i[0], 'last_update'], \\\n",
    "                                   dataframe.loc[i[0], 'study_abstract'], \\\n",
    "                                   dataframe.loc[i[0], 'is_public'], \\\n",
    "                                   dataframe.loc[i[0], 'study_name'], \\\n",
    "                                   dataframe.loc[i[0], 'data_origination']\\\n",
    "                                  ]\n",
    "            a = a + 1\n",
    "    return df_random"
   ]
  },
  {
   "cell_type": "code",
   "execution_count": 36,
   "metadata": {},
   "outputs": [],
   "source": [
    "#Search Study\n",
    "term = 'Algae'\n",
    "lineage = 'Host-associated'\n",
    "biome = 'root'\n",
    "file_study = '01_Study_'+term+'+'+biome+'+'+lineage+'_raw.csv'"
   ]
  },
  {
   "cell_type": "code",
   "execution_count": 37,
   "metadata": {},
   "outputs": [
    {
     "data": {
      "text/plain": [
       "'01_Study_Algae+root+Host-associated_raw.csv'"
      ]
     },
     "execution_count": 37,
     "metadata": {},
     "output_type": "execute_result"
    }
   ],
   "source": [
    "#Download study information\n",
    "get_study(term, biome, lineage, file_study)"
   ]
  },
  {
   "cell_type": "code",
   "execution_count": 38,
   "metadata": {},
   "outputs": [],
   "source": [
    "#Load Study information\n",
    "df1 = pd.read_csv(file_study)\n",
    "#df1"
   ]
  },
  {
   "cell_type": "code",
   "execution_count": 39,
   "metadata": {},
   "outputs": [],
   "source": [
    "#Select relevant information\n",
    "df_study = df1[['secondary_accession','url','samples_count','bioproject','accession','biomes','centre_name','last_update', 'study_abstract','is_public','study_name','data_origination']]\n",
    "#df_study"
   ]
  },
  {
   "cell_type": "code",
   "execution_count": 40,
   "metadata": {},
   "outputs": [
    {
     "name": "stderr",
     "output_type": "stream",
     "text": [
      "100%|██████████| 12/12 [00:44<00:00,  3.71s/it]\n"
     ]
    }
   ],
   "source": [
    "#Add information on biome\n",
    "df2 = DataFrame(columns=(\"Biome\",\"Lineage\",\"Latitude\",\"Longitude\",\"Publication\"))\n",
    "#df2.index.name = 'No'\n",
    "\n",
    "for i in tqdm(range(len(df_study))):\n",
    "    with Session(API_BASE) as s:\n",
    "        std = s.get('studies', df_study.loc[i, \"secondary_accession\"]).resource\n",
    "        for a in std.biomes:\n",
    "            df2.loc[i, \"Biome\"] = a.biome_name\n",
    "            df2.loc[i, \"Lineage\"] = a.lineage\n",
    "        for g in std.geocoordinates:\n",
    "            df2.loc[i, \"Latitude\"] = g.latitude\n",
    "            df2.loc[i, \"Longitude\"] = g.longitude\n",
    "        for p in std.publications:\n",
    "            df2.loc[i, \"Publication\"] = p.doi"
   ]
  },
  {
   "cell_type": "code",
   "execution_count": 41,
   "metadata": {},
   "outputs": [
    {
     "data": {
      "text/html": [
       "<div>\n",
       "<style scoped>\n",
       "    .dataframe tbody tr th:only-of-type {\n",
       "        vertical-align: middle;\n",
       "    }\n",
       "\n",
       "    .dataframe tbody tr th {\n",
       "        vertical-align: top;\n",
       "    }\n",
       "\n",
       "    .dataframe thead th {\n",
       "        text-align: right;\n",
       "    }\n",
       "</style>\n",
       "<table border=\"1\" class=\"dataframe\">\n",
       "  <thead>\n",
       "    <tr style=\"text-align: right;\">\n",
       "      <th></th>\n",
       "      <th>secondary_accession</th>\n",
       "      <th>url</th>\n",
       "      <th>samples_count</th>\n",
       "      <th>bioproject</th>\n",
       "      <th>accession</th>\n",
       "      <th>biomes</th>\n",
       "      <th>centre_name</th>\n",
       "      <th>last_update</th>\n",
       "      <th>study_abstract</th>\n",
       "      <th>is_public</th>\n",
       "      <th>study_name</th>\n",
       "      <th>data_origination</th>\n",
       "      <th>Biome</th>\n",
       "      <th>Lineage</th>\n",
       "      <th>Latitude</th>\n",
       "      <th>Longitude</th>\n",
       "      <th>Publication</th>\n",
       "    </tr>\n",
       "  </thead>\n",
       "  <tbody>\n",
       "    <tr>\n",
       "      <th>10</th>\n",
       "      <td>ERP104738</td>\n",
       "      <td>https://www.ebi.ac.uk/metagenomics/api/v1/stud...</td>\n",
       "      <td>69</td>\n",
       "      <td>PRJEB23005</td>\n",
       "      <td>MGYS00002473</td>\n",
       "      <td>[OrderedDict([('type', 'biomes'), ('id', 'root...</td>\n",
       "      <td>Alfred Wegener Institute Helmholtz Centre for ...</td>\n",
       "      <td>2018-06-29T14:31:43</td>\n",
       "      <td>We aimed to explore the community composition ...</td>\n",
       "      <td>True</td>\n",
       "      <td>Microbial diversity of the central Arctic Ocean</td>\n",
       "      <td>SUBMITTED</td>\n",
       "      <td>Algae</td>\n",
       "      <td>root:Host-associated:Algae</td>\n",
       "      <td>81.9255</td>\n",
       "      <td>131.129</td>\n",
       "      <td>10.3389/fmicb.2018.01035</td>\n",
       "    </tr>\n",
       "  </tbody>\n",
       "</table>\n",
       "</div>"
      ],
      "text/plain": [
       "   secondary_accession                                                url  \\\n",
       "10           ERP104738  https://www.ebi.ac.uk/metagenomics/api/v1/stud...   \n",
       "\n",
       "    samples_count  bioproject     accession  \\\n",
       "10             69  PRJEB23005  MGYS00002473   \n",
       "\n",
       "                                               biomes  \\\n",
       "10  [OrderedDict([('type', 'biomes'), ('id', 'root...   \n",
       "\n",
       "                                          centre_name          last_update  \\\n",
       "10  Alfred Wegener Institute Helmholtz Centre for ...  2018-06-29T14:31:43   \n",
       "\n",
       "                                       study_abstract  is_public  \\\n",
       "10  We aimed to explore the community composition ...       True   \n",
       "\n",
       "                                         study_name data_origination  Biome  \\\n",
       "10  Microbial diversity of the central Arctic Ocean        SUBMITTED  Algae   \n",
       "\n",
       "                       Lineage Latitude Longitude               Publication  \n",
       "10  root:Host-associated:Algae  81.9255   131.129  10.3389/fmicb.2018.01035  "
      ]
     },
     "execution_count": 41,
     "metadata": {},
     "output_type": "execute_result"
    }
   ],
   "source": [
    "#Merge & Filter Table\n",
    "df3 = pd.concat([df_study, df2], axis=1)\n",
    "df3.set_index([\"secondary_accession\"])\n",
    "df_study_biome = df3.query('Biome == [\"root\", \"Algae\"] and Lineage == [\"root:Host-associated:Algae\"]')\n",
    "df_study_biome"
   ]
  },
  {
   "cell_type": "code",
   "execution_count": 17,
   "metadata": {},
   "outputs": [],
   "source": [
    "#Export study data\n",
    "df_study_biome.to_csv('02_Study_'+term+'+'+biome+'+'+lineage+'_filtered.csv')"
   ]
  },
  {
   "cell_type": "code",
   "execution_count": 21,
   "metadata": {},
   "outputs": [],
   "source": [
    "#Selected study\n",
    "from mg_toolkit.metadata import OriginalMetadata\n",
    "om = OriginalMetadata(\"ERP104738\")\n",
    "om.save_to_csv(om.fetch_metadata(),\"ERP104738_metadata.csv\")\n"
   ]
  },
  {
   "cell_type": "code",
   "execution_count": 25,
   "metadata": {},
   "outputs": [],
   "source": [
    "#Selected study\n",
    "study = 'ERP104738'"
   ]
  },
  {
   "cell_type": "code",
   "execution_count": 43,
   "metadata": {},
   "outputs": [
    {
     "name": "stdout",
     "output_type": "stream",
     "text": [
      "03_sample_ERP104738_raw.csv\n"
     ]
    }
   ],
   "source": [
    "#Fetch a list of sample data from a given study\n",
    "filename_sample = '03_sample_'+study+'_raw.csv'\n",
    "print(filename_sample)\n",
    "if not os.path.isfile(filename_sample):\n",
    "    with open(filename_sample, 'wb') as f:\n",
    "        c = pycurl.Curl()\n",
    "        c.setopt(c.URL, 'https://www.ebi.ac.uk/metagenomics/api/v1/studies/MGYS00002473/analyses?include=sample&format=csv')\n",
    "        c.setopt(c.WRITEDATA, f)\n",
    "        c.perform()\n",
    "        c.close()"
   ]
  },
  {
   "cell_type": "code",
   "execution_count": 44,
   "metadata": {},
   "outputs": [],
   "source": [
    "#Filter relevant information from the list\n",
    "df_sample = pd.read_csv(filename_sample)\n",
    "df_sample_refine = df_sample[[\"accession\",\"run\",\"pipeline_version\"]]"
   ]
  },
  {
   "cell_type": "code",
   "execution_count": 51,
   "metadata": {},
   "outputs": [
    {
     "ename": "DocumentError",
     "evalue": "Error 404: ?",
     "output_type": "error",
     "traceback": [
      "\u001b[1;31m---------------------------------------------------------------------------\u001b[0m",
      "\u001b[1;31mDocumentError\u001b[0m                             Traceback (most recent call last)",
      "\u001b[1;32m<ipython-input-51-0459e4cddd13>\u001b[0m in \u001b[0;36m<module>\u001b[1;34m()\u001b[0m\n\u001b[0;32m      1\u001b[0m \u001b[1;31m#check available metadata key\u001b[0m\u001b[1;33m\u001b[0m\u001b[1;33m\u001b[0m\u001b[0m\n\u001b[0;32m      2\u001b[0m \u001b[1;32mwith\u001b[0m \u001b[0mSession\u001b[0m\u001b[1;33m(\u001b[0m\u001b[0mAPI_BASE\u001b[0m\u001b[1;33m)\u001b[0m \u001b[1;32mas\u001b[0m \u001b[0ms\u001b[0m\u001b[1;33m:\u001b[0m\u001b[1;33m\u001b[0m\u001b[0m\n\u001b[1;32m----> 3\u001b[1;33m     \u001b[0ms_meta\u001b[0m \u001b[1;33m=\u001b[0m \u001b[0ms\u001b[0m\u001b[1;33m.\u001b[0m\u001b[0mget\u001b[0m\u001b[1;33m(\u001b[0m\u001b[1;34m'samples'\u001b[0m\u001b[1;33m,\u001b[0m \u001b[0mdf_sample_refine\u001b[0m\u001b[1;33m.\u001b[0m\u001b[0mloc\u001b[0m\u001b[1;33m[\u001b[0m\u001b[1;36m0\u001b[0m\u001b[1;33m,\u001b[0m \u001b[1;34m\"accession\"\u001b[0m\u001b[1;33m]\u001b[0m\u001b[1;33m)\u001b[0m\u001b[1;33m.\u001b[0m\u001b[0mresource\u001b[0m\u001b[1;33m\u001b[0m\u001b[0m\n\u001b[0m\u001b[0;32m      4\u001b[0m \u001b[0ms_meta\u001b[0m\u001b[1;33m.\u001b[0m\u001b[0msample_metadata\u001b[0m\u001b[1;33m\u001b[0m\u001b[0m\n",
      "\u001b[1;32m~\\Anaconda3\\lib\\site-packages\\jsonapi_client\\session.py\u001b[0m in \u001b[0;36mget\u001b[1;34m(self, resource_type, resource_id_or_filter)\u001b[0m\n\u001b[0;32m    360\u001b[0m             \u001b[1;32mreturn\u001b[0m \u001b[0mself\u001b[0m\u001b[1;33m.\u001b[0m\u001b[0m_get_async\u001b[0m\u001b[1;33m(\u001b[0m\u001b[0mresource_type\u001b[0m\u001b[1;33m,\u001b[0m \u001b[0mresource_id_or_filter\u001b[0m\u001b[1;33m)\u001b[0m\u001b[1;33m\u001b[0m\u001b[0m\n\u001b[0;32m    361\u001b[0m         \u001b[1;32melse\u001b[0m\u001b[1;33m:\u001b[0m\u001b[1;33m\u001b[0m\u001b[0m\n\u001b[1;32m--> 362\u001b[1;33m             \u001b[1;32mreturn\u001b[0m \u001b[0mself\u001b[0m\u001b[1;33m.\u001b[0m\u001b[0m_get_sync\u001b[0m\u001b[1;33m(\u001b[0m\u001b[0mresource_type\u001b[0m\u001b[1;33m,\u001b[0m \u001b[0mresource_id_or_filter\u001b[0m\u001b[1;33m)\u001b[0m\u001b[1;33m\u001b[0m\u001b[0m\n\u001b[0m\u001b[0;32m    363\u001b[0m \u001b[1;33m\u001b[0m\u001b[0m\n\u001b[0;32m    364\u001b[0m     \u001b[1;32mdef\u001b[0m \u001b[0m_iterate_sync\u001b[0m\u001b[1;33m(\u001b[0m\u001b[0mself\u001b[0m\u001b[1;33m,\u001b[0m \u001b[0mresource_type\u001b[0m\u001b[1;33m:\u001b[0m \u001b[0mstr\u001b[0m\u001b[1;33m,\u001b[0m \u001b[0mfilter\u001b[0m\u001b[1;33m:\u001b[0m \u001b[1;34m'Filter'\u001b[0m\u001b[1;33m=\u001b[0m\u001b[1;32mNone\u001b[0m\u001b[1;33m)\u001b[0m\u001b[0;31m \u001b[0m\u001b[0;31m\\\u001b[0m\u001b[1;33m\u001b[0m\u001b[0m\n",
      "\u001b[1;32m~\\Anaconda3\\lib\\site-packages\\jsonapi_client\\session.py\u001b[0m in \u001b[0;36m_get_sync\u001b[1;34m(self, resource_type, resource_id_or_filter)\u001b[0m\n\u001b[0;32m    336\u001b[0m                                                                 resource_id_or_filter)\n\u001b[0;32m    337\u001b[0m         \u001b[0murl\u001b[0m \u001b[1;33m=\u001b[0m \u001b[0mself\u001b[0m\u001b[1;33m.\u001b[0m\u001b[0m_url_for_resource\u001b[0m\u001b[1;33m(\u001b[0m\u001b[0mresource_type\u001b[0m\u001b[1;33m,\u001b[0m \u001b[0mresource_id\u001b[0m\u001b[1;33m,\u001b[0m \u001b[0mfilter_\u001b[0m\u001b[1;33m)\u001b[0m\u001b[1;33m\u001b[0m\u001b[0m\n\u001b[1;32m--> 338\u001b[1;33m         \u001b[1;32mreturn\u001b[0m \u001b[0mself\u001b[0m\u001b[1;33m.\u001b[0m\u001b[0mfetch_document_by_url\u001b[0m\u001b[1;33m(\u001b[0m\u001b[0murl\u001b[0m\u001b[1;33m)\u001b[0m\u001b[1;33m\u001b[0m\u001b[0m\n\u001b[0m\u001b[0;32m    339\u001b[0m \u001b[1;33m\u001b[0m\u001b[0m\n\u001b[0;32m    340\u001b[0m     async def _get_async(self, resource_type: str,\n",
      "\u001b[1;32m~\\Anaconda3\\lib\\site-packages\\jsonapi_client\\session.py\u001b[0m in \u001b[0;36mfetch_document_by_url\u001b[1;34m(self, url)\u001b[0m\n\u001b[0;32m    453\u001b[0m \u001b[1;33m\u001b[0m\u001b[0m\n\u001b[0;32m    454\u001b[0m         \u001b[1;31m# TODO: should we try to guess type, id from url?\u001b[0m\u001b[1;33m\u001b[0m\u001b[1;33m\u001b[0m\u001b[0m\n\u001b[1;32m--> 455\u001b[1;33m         \u001b[1;32mreturn\u001b[0m \u001b[0mself\u001b[0m\u001b[1;33m.\u001b[0m\u001b[0mdocuments_by_link\u001b[0m\u001b[1;33m.\u001b[0m\u001b[0mget\u001b[0m\u001b[1;33m(\u001b[0m\u001b[0murl\u001b[0m\u001b[1;33m)\u001b[0m \u001b[1;32mor\u001b[0m \u001b[0mself\u001b[0m\u001b[1;33m.\u001b[0m\u001b[0m_ext_fetch_by_url\u001b[0m\u001b[1;33m(\u001b[0m\u001b[0murl\u001b[0m\u001b[1;33m)\u001b[0m\u001b[1;33m\u001b[0m\u001b[0m\n\u001b[0m\u001b[0;32m    456\u001b[0m \u001b[1;33m\u001b[0m\u001b[0m\n\u001b[0;32m    457\u001b[0m     \u001b[1;33masync\u001b[0m \u001b[1;32mdef\u001b[0m \u001b[0mfetch_document_by_url_async\u001b[0m\u001b[1;33m(\u001b[0m\u001b[0mself\u001b[0m\u001b[1;33m,\u001b[0m \u001b[0murl\u001b[0m\u001b[1;33m:\u001b[0m \u001b[0mstr\u001b[0m\u001b[1;33m)\u001b[0m \u001b[1;33m->\u001b[0m \u001b[1;34m'Document'\u001b[0m\u001b[1;33m:\u001b[0m\u001b[1;33m\u001b[0m\u001b[0m\n",
      "\u001b[1;32m~\\Anaconda3\\lib\\site-packages\\jsonapi_client\\session.py\u001b[0m in \u001b[0;36m_ext_fetch_by_url\u001b[1;34m(self, url)\u001b[0m\n\u001b[0;32m    467\u001b[0m \u001b[1;33m\u001b[0m\u001b[0m\n\u001b[0;32m    468\u001b[0m     \u001b[1;32mdef\u001b[0m \u001b[0m_ext_fetch_by_url\u001b[0m\u001b[1;33m(\u001b[0m\u001b[0mself\u001b[0m\u001b[1;33m,\u001b[0m \u001b[0murl\u001b[0m\u001b[1;33m:\u001b[0m \u001b[0mstr\u001b[0m\u001b[1;33m)\u001b[0m \u001b[1;33m->\u001b[0m \u001b[1;34m'Document'\u001b[0m\u001b[1;33m:\u001b[0m\u001b[1;33m\u001b[0m\u001b[0m\n\u001b[1;32m--> 469\u001b[1;33m         \u001b[0mjson_data\u001b[0m \u001b[1;33m=\u001b[0m \u001b[0mself\u001b[0m\u001b[1;33m.\u001b[0m\u001b[0m_fetch_json\u001b[0m\u001b[1;33m(\u001b[0m\u001b[0murl\u001b[0m\u001b[1;33m)\u001b[0m\u001b[1;33m\u001b[0m\u001b[0m\n\u001b[0m\u001b[0;32m    470\u001b[0m         \u001b[1;32mreturn\u001b[0m \u001b[0mself\u001b[0m\u001b[1;33m.\u001b[0m\u001b[0mread\u001b[0m\u001b[1;33m(\u001b[0m\u001b[0mjson_data\u001b[0m\u001b[1;33m,\u001b[0m \u001b[0murl\u001b[0m\u001b[1;33m)\u001b[0m\u001b[1;33m\u001b[0m\u001b[0m\n\u001b[0;32m    471\u001b[0m \u001b[1;33m\u001b[0m\u001b[0m\n",
      "\u001b[1;32m~\\Anaconda3\\lib\\site-packages\\jsonapi_client\\session.py\u001b[0m in \u001b[0;36m_fetch_json\u001b[1;34m(self, url)\u001b[0m\n\u001b[0;32m    492\u001b[0m                                 \u001b[1;34mf'{error_from_response(response)}'\u001b[0m\u001b[1;33m,\u001b[0m\u001b[1;33m\u001b[0m\u001b[0m\n\u001b[0;32m    493\u001b[0m                                 \u001b[0merrors\u001b[0m\u001b[1;33m=\u001b[0m\u001b[1;33m{\u001b[0m\u001b[1;34m'status_code'\u001b[0m\u001b[1;33m:\u001b[0m \u001b[0mresponse\u001b[0m\u001b[1;33m.\u001b[0m\u001b[0mstatus_code\u001b[0m\u001b[1;33m}\u001b[0m\u001b[1;33m,\u001b[0m\u001b[1;33m\u001b[0m\u001b[0m\n\u001b[1;32m--> 494\u001b[1;33m                                 response=response)\n\u001b[0m\u001b[0;32m    495\u001b[0m \u001b[1;33m\u001b[0m\u001b[0m\n\u001b[0;32m    496\u001b[0m     \u001b[1;33masync\u001b[0m \u001b[1;32mdef\u001b[0m \u001b[0m_fetch_json_async\u001b[0m\u001b[1;33m(\u001b[0m\u001b[0mself\u001b[0m\u001b[1;33m,\u001b[0m \u001b[0murl\u001b[0m\u001b[1;33m:\u001b[0m \u001b[0mstr\u001b[0m\u001b[1;33m)\u001b[0m \u001b[1;33m->\u001b[0m \u001b[0mdict\u001b[0m\u001b[1;33m:\u001b[0m\u001b[1;33m\u001b[0m\u001b[0m\n",
      "\u001b[1;31mDocumentError\u001b[0m: Error 404: ?"
     ]
    }
   ],
   "source": [
    "#check available metadata key\n",
    "with Session(API_BASE) as s:\n",
    "    s_meta = s.get('samples', df_sample_refine.loc[0, \"accession\"]).resource\n",
    "s_meta.sample_metadata"
   ]
  },
  {
   "cell_type": "code",
   "execution_count": 50,
   "metadata": {},
   "outputs": [],
   "source": [
    "#Create Container\n",
    "if not os.path.isfile('04_raw_meta_'+study+'.csv'):\n",
    "    df_meta = DataFrame(columns=('environmental package',\"total depth of water column\", \"host-associated environmental package\"))\n",
    "    df_meta.index.name = 'No'\n",
    "else:\n",
    "    df_meta = pd.read_csv('04_raw_meta_'+study+'.csv', index_col=0)"
   ]
  },
  {
   "cell_type": "code",
   "execution_count": null,
   "metadata": {},
   "outputs": [],
   "source": []
  },
  {
   "cell_type": "markdown",
   "metadata": {},
   "source": []
  }
 ],
 "metadata": {
  "kernelspec": {
   "display_name": "Python 3",
   "language": "python",
   "name": "python3"
  },
  "language_info": {
   "codemirror_mode": {
    "name": "ipython",
    "version": 3
   },
   "file_extension": ".py",
   "mimetype": "text/x-python",
   "name": "python",
   "nbconvert_exporter": "python",
   "pygments_lexer": "ipython3",
   "version": "3.6.5"
  }
 },
 "nbformat": 4,
 "nbformat_minor": 2
}
